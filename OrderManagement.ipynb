{
    "metadata": {
        "kernelspec": {
            "name": "SQL",
            "display_name": "SQL",
            "language": "sql"
        },
        "language_info": {
            "name": "sql",
            "version": ""
        }
    },
    "nbformat_minor": 2,
    "nbformat": 4,
    "cells": [
        {
            "cell_type": "code",
            "source": [
                "-- Create database\n",
                "CREATE DATABASE OrderManagement;"
            ],
            "metadata": {
                "language": "sql",
                "azdata_cell_guid": "f8518152-ec2f-43c6-a58c-4612ee26ec51"
            },
            "outputs": [],
            "execution_count": null
        },
        {
            "cell_type": "code",
            "source": [
                "-- Create tables\n",
                "-- Customers Table\n",
                "CREATE TABLE customers (\n",
                "    customer_id SERIAL PRIMARY KEY,\n",
                "    customer_name VARCHAR(255) NOT NULL,\n",
                "    phone VARCHAR(255),\n",
                "    address_line_1 VARCHAR(255),\n",
                "    address_line_2 VARCHAR(255),\n",
                "    city VARCHAR(50),\n",
                "    state VARCHAR(50),\n",
                "    postal_code VARCHAR(50),\n",
                "    country VARCHAR(50),\n",
                "    territory VARCHAR(50),\n",
                "    contact_last_name VARCHAR(100),\n",
                "    contact_first_name VARCHAR(100)\n",
                ");\n",
                "\n",
                "-- Products Table\n",
                "CREATE TABLE products (\n",
                "    product_code VARCHAR(50) PRIMARY KEY,\n",
                "    product_line VARCHAR(255),\n",
                "    msrp DECIMAL(10, 2)\n",
                ");\n",
                "\n",
                "-- Orders Table\n",
                "CREATE TABLE orders (\n",
                "    order_number INT PRIMARY KEY,\n",
                "    order_date DATE,\n",
                "    status VARCHAR(50),\n",
                "    qtr_id INT,\n",
                "    month_id INT,\n",
                "    year_id INT,\n",
                "    deal_size VARCHAR(50),\n",
                "    customer_id INT,\n",
                "    FOREIGN KEY (customer_id) REFERENCES customers(customer_id)\n",
                ");\n",
                "\n",
                "-- OrderDetails Table\n",
                "CREATE TABLE order_details (\n",
                "    order_detail_id SERIAL PRIMARY KEY,\n",
                "    order_number INT,\n",
                "    product_code VARCHAR(50),\n",
                "    quantity_ordered INT,\n",
                "    price_each DECIMAL(10, 2),\n",
                "    order_line_number INT,\n",
                "    sales DECIMAL(10, 2),\n",
                "    FOREIGN KEY (order_number) REFERENCES orders(order_number),\n",
                "    FOREIGN KEY (product_code) REFERENCES products(product_code)\n",
                ");"
            ],
            "metadata": {
                "azdata_cell_guid": "0bb1ceb5-983e-44b6-b88d-883eea19c11b",
                "language": "sql",
                "tags": []
            },
            "outputs": [
                {
                    "output_type": "display_data",
                    "data": {
                        "text/html": "Commands completed successfully"
                    },
                    "metadata": {}
                },
                {
                    "output_type": "display_data",
                    "data": {
                        "text/html": "Commands completed successfully"
                    },
                    "metadata": {}
                },
                {
                    "output_type": "display_data",
                    "data": {
                        "text/html": "Commands completed successfully"
                    },
                    "metadata": {}
                },
                {
                    "output_type": "display_data",
                    "data": {
                        "text/html": "Commands completed successfully"
                    },
                    "metadata": {}
                },
                {
                    "output_type": "display_data",
                    "data": {
                        "text/html": "Total execution time: 00:00:00.021"
                    },
                    "metadata": {}
                }
            ],
            "execution_count": 1
        },
        {
            "cell_type": "code",
            "source": [
                "import pandas as pd\n",
                "# Read CSV file \n",
                "df = pd.read_csv('/Users/meganwagnersmith/Desktop/OrderManagementData/sales_data_sample.csv', encoding='ISO-8859-1')\n",
                "print(df.columns)"
            ],
            "metadata": {
                "azdata_cell_guid": "bd95b816-d6c5-40cc-8bb9-24ee16a2268b",
                "language": "sql"
            },
            "outputs": [
                {
                    "name": "stdout",
                    "text": "Index(['order_number', 'quantity_ordered', 'price_each', 'order_line_number',\n       'sales', 'order_date', 'status', 'qtr_id', 'month_id', 'year_id',\n       'product_line', 'msrp', 'product_code', 'customer_name', 'phone',\n       'address_line_1', 'address_line_2', 'city', 'state', 'postal_code',\n       'country', 'territory', 'contact_last_name', 'contact_first_name',\n       'deal_size'],\n      dtype='object')\n",
                    "output_type": "stream"
                }
            ],
            "execution_count": 1
        },
        {
            "cell_type": "code",
            "source": [
                "# Extracting unique customers\n",
                "customers_df = df[['customer_name', 'contact_first_name', 'contact_last_name', 'phone', 'address_line_1', 'address_line_2', 'city', 'state', 'postal_code', 'country', 'territory']].drop_duplicates('customer_name')\n",
                "customers_df['customer_id'] = range(1, 1+len(customers_df))\n",
                "# customers_df['contact_full_name'] = customers_df['contact_first_name'] + ' ' + customers_df['contact_last_name']\n",
                "customers_df = customers_df[['customer_id','customer_name', 'contact_first_name', 'contact_last_name', 'phone', 'address_line_1', 'address_line_2', 'city', 'state', 'postal_code', 'country', 'territory']]\n",
                "\n",
                "# Extracting orders\n",
                "orders_df = df[['order_number', 'order_date', 'status', 'customer_name', 'qtr_id', 'month_id', 'year_id', 'deal_size']].drop_duplicates('order_number')\n",
                "orders_df = orders_df.merge(customers_df[['customer_name', 'customer_id']], on='customer_name', how='left')\n",
                "orders_df = orders_df[['order_number', 'order_date', 'status', 'customer_id', 'qtr_id', 'month_id', 'year_id', 'deal_size']]\n",
                "\n",
                "# Extracting order details\n",
                "order_details_df = df[['order_number', 'product_code', 'quantity_ordered', 'price_each', 'order_line_number', 'sales']].copy()\n",
                "order_details_df['order_detail_id'] = range(1, 1+len(order_details_df))\n",
                "order_details_df = order_details_df[['order_detail_id', 'order_number', 'product_code', 'quantity_ordered', 'price_each', 'order_line_number', 'sales']].copy()\n",
                "\n",
                "# Extracting products \n",
                "products_df = df[['product_code', 'product_line', 'msrp']].drop_duplicates()\n",
                "\n",
                "print(customers_df.head())\n",
                "print(orders_df.head())\n",
                "print(order_details_df.head())\n",
                "print(products_df.head())"
            ],
            "metadata": {
                "azdata_cell_guid": "f59efb11-39c2-4621-a64e-03c0b4de9b49",
                "language": "sql"
            },
            "outputs": [
                {
                    "name": "stdout",
                    "text": "   customer_id             customer_name contact_first_name contact_last_name  \\\n0            1         Land of Toys Inc.               Kwai                Yu   \n1            2        Reims Collectables               Paul           Henriot   \n2            3           Lyon Souveniers             Daniel          Da Cunha   \n3            4         Toys4GrownUps.com              Julie             Young   \n4            5  Corporate Gift Ideas Co.              Julie             Brown   \n\n              phone                 address_line_1 address_line_2  \\\n0        2125557818        897 Long Airport Avenue            NaN   \n1        26.47.1555             59 rue de l'Abbaye            NaN   \n2  +33 1 46 62 7555  27 rue du Colonel Pierre Avia            NaN   \n3        6265557265             78934 Hillside Dr.            NaN   \n4        6505551386                7734 Strong St.            NaN   \n\n            city state postal_code country territory  \n0            NYC    NY       10022     USA       NAM  \n1          Reims   NaN       51100  France      EMEA  \n2          Paris   NaN       75508  France      EMEA  \n3       Pasadena    CA       90003     USA       NAM  \n4  San Francisco    CA         NaN     USA       NAM  \n   order_number     order_date   status  customer_id  qtr_id  month_id  \\\n0         10107   2/24/03 0:00  Shipped            1       1         2   \n1         10121    5/7/03 0:00  Shipped            2       2         5   \n2         10134    7/1/03 0:00  Shipped            3       3         7   \n3         10145   8/25/03 0:00  Shipped            4       3         8   \n4         10159  10/10/03 0:00  Shipped            5       4        10   \n\n   year_id deal_size  \n0     2003     Small  \n1     2003     Small  \n2     2003    Medium  \n3     2003    Medium  \n4     2003    Medium  \n   order_detail_id  order_number product_code  quantity_ordered  price_each  \\\n0                1         10107     S10_1678                30       95.70   \n1                2         10121     S10_1678                34       81.35   \n2                3         10134     S10_1678                41       94.74   \n3                4         10145     S10_1678                45       83.26   \n4                5         10159     S10_1678                49      100.00   \n\n   order_line_number    sales  \n0                  2  2871.00  \n1                  5  2765.90  \n2                  2  3884.34  \n3                  6  3746.70  \n4                 14  5205.27  \n    product_code  product_line  msrp\n0       S10_1678   Motorcycles    95\n26      S10_1949  Classic Cars   214\n54      S10_2016   Motorcycles   118\n80      S10_4698   Motorcycles   193\n106     S10_4757  Classic Cars   136\n",
                    "output_type": "stream"
                }
            ],
            "execution_count": 2
        },
        {
            "cell_type": "code",
            "source": [
                "from dotenv import load_dotenv\n",
                "import os\n",
                "from sqlalchemy import create_engine\n",
                "\n",
                "load_dotenv()\n",
                "API_KEY = os.getenv(\"API_KEY\")\n",
                "\n",
                "# Replace these values with your database credentials\n",
                "username = os.getenv('MY_USERNAME')\n",
                "password = os.getenv('MY_PASSWORD')\n",
                "host = 'localhost'\n",
                "port = '5432'\n",
                "database = 'ordermanagement'\n",
                "\n",
                "engine = create_engine(f'postgresql+psycopg2://{username}:{password}@{host}:{port}/{database}')"
            ],
            "metadata": {
                "azdata_cell_guid": "483fd13f-56a4-4a28-849b-7713f91426c1",
                "language": "sql",
                "tags": []
            },
            "outputs": [],
            "execution_count": 3
        },
        {
            "cell_type": "code",
            "source": [
                "# Insert data into customers table\n",
                "customers_df.to_sql('customers', engine, if_exists='append', index=False)\n",
                "\n",
                "\n",
                "# Insert data into products table\n",
                "products_df.to_sql('products', engine, if_exists='append', index=False)\n",
                "\n",
                "# Insert data into orders table\n",
                "orders_df.to_sql('orders', engine, if_exists='append', index=False)\n",
                "\n",
                "# Insert data into order details table\n",
                "order_details_df.to_sql('order_details', engine, if_exists='append', index=False)\n",
                "\n",
                ""
            ],
            "metadata": {
                "azdata_cell_guid": "225e6002-580b-487e-b4cb-1e96d54be86e",
                "language": "sql"
            },
            "outputs": [
                {
                    "data": {
                        "text/plain": "823"
                    },
                    "metadata": {},
                    "execution_count": 4,
                    "output_type": "execute_result"
                }
            ],
            "execution_count": 4
        },
        {
            "cell_type": "code",
            "source": [
                "-- View total sales by customer\n",
                "SELECT \n",
                "    c.customer_name, \n",
                "    SUM(od.sales) as total_sales\n",
                "FROM customers c\n",
                "JOIN orders o ON c.customer_id = o.customer_id\n",
                "JOIN order_details od ON o.order_number = od.order_number\n",
                "GROUP BY c.customer_name\n",
                "ORDER BY total_sales DESC;"
            ],
            "metadata": {
                "azdata_cell_guid": "85233265-67fc-4ea2-bb4b-0cb2145accf3",
                "language": "sql",
                "tags": []
            },
            "outputs": [
                {
                    "output_type": "display_data",
                    "data": {
                        "text/html": "(92 row(s) affected)"
                    },
                    "metadata": {}
                },
                {
                    "output_type": "display_data",
                    "data": {
                        "text/html": "Total execution time: 00:00:00.011"
                    },
                    "metadata": {}
                },
                {
                    "output_type": "execute_result",
                    "metadata": {},
                    "execution_count": 1,
                    "data": {
                        "application/vnd.dataresource+json": {
                            "schema": {
                                "fields": [
                                    {
                                        "name": "customer_name"
                                    },
                                    {
                                        "name": "total_sales"
                                    }
                                ]
                            },
                            "data": [
                                {
                                    "customer_name": "Euro Shopping Channel",
                                    "total_sales": "912294.11"
                                },
                                {
                                    "customer_name": "Mini Gifts Distributors Ltd.",
                                    "total_sales": "654858.06"
                                },
                                {
                                    "customer_name": "Australian Collectors, Co.",
                                    "total_sales": "200995.41"
                                },
                                {
                                    "customer_name": "Muscle Machine Inc",
                                    "total_sales": "197736.94"
                                },
                                {
                                    "customer_name": "La Rochelle Gifts",
                                    "total_sales": "180124.90"
                                },
                                {
                                    "customer_name": "Dragon Souveniers, Ltd.",
                                    "total_sales": "172989.68"
                                },
                                {
                                    "customer_name": "Land of Toys Inc.",
                                    "total_sales": "164069.44"
                                },
                                {
                                    "customer_name": "The Sharp Gifts Warehouse",
                                    "total_sales": "160010.27"
                                },
                                {
                                    "customer_name": "AV Stores, Co.",
                                    "total_sales": "157807.81"
                                },
                                {
                                    "customer_name": "Anna's Decorations, Ltd",
                                    "total_sales": "153996.13"
                                },
                                {
                                    "customer_name": "Souveniers And Things Co.",
                                    "total_sales": "151570.98"
                                },
                                {
                                    "customer_name": "Corporate Gift Ideas Co.",
                                    "total_sales": "149882.50"
                                },
                                {
                                    "customer_name": "Salzburg Collectables",
                                    "total_sales": "149798.63"
                                },
                                {
                                    "customer_name": "Danish Wholesale Imports",
                                    "total_sales": "145041.60"
                                },
                                {
                                    "customer_name": "Saveley & Henriot, Co.",
                                    "total_sales": "142874.25"
                                },
                                {
                                    "customer_name": "L'ordine Souveniers",
                                    "total_sales": "142601.33"
                                },
                                {
                                    "customer_name": "Rovelli Gifts",
                                    "total_sales": "137955.72"
                                },
                                {
                                    "customer_name": "Reims Collectables",
                                    "total_sales": "135042.94"
                                },
                                {
                                    "customer_name": "Scandinavian Gift Ideas",
                                    "total_sales": "134259.33"
                                },
                                {
                                    "customer_name": "Online Diecast Creations Co.",
                                    "total_sales": "131685.30"
                                },
                                {
                                    "customer_name": "Diecast Classics Inc.",
                                    "total_sales": "122138.14"
                                },
                                {
                                    "customer_name": "Technics Stores Inc.",
                                    "total_sales": "120783.07"
                                },
                                {
                                    "customer_name": "Corrida Auto Replicas, Ltd",
                                    "total_sales": "120615.28"
                                },
                                {
                                    "customer_name": "Tokyo Collectables, Ltd",
                                    "total_sales": "120562.74"
                                },
                                {
                                    "customer_name": "UK Collectables, Ltd.",
                                    "total_sales": "118008.27"
                                },
                                {
                                    "customer_name": "Vida Sport, Ltd",
                                    "total_sales": "117713.56"
                                },
                                {
                                    "customer_name": "Baane Mini Imports",
                                    "total_sales": "116599.19"
                                },
                                {
                                    "customer_name": "Handji Gifts& Co",
                                    "total_sales": "115498.73"
                                },
                                {
                                    "customer_name": "Suominen Souveniers",
                                    "total_sales": "113961.15"
                                },
                                {
                                    "customer_name": "Herkku Gifts",
                                    "total_sales": "111640.28"
                                },
                                {
                                    "customer_name": "Toys of Finland, Co.",
                                    "total_sales": "111250.38"
                                },
                                {
                                    "customer_name": "Mini Creations Ltd.",
                                    "total_sales": "108951.13"
                                },
                                {
                                    "customer_name": "Toys4GrownUps.com",
                                    "total_sales": "104561.96"
                                },
                                {
                                    "customer_name": "Oulu Toy Supplies, Inc.",
                                    "total_sales": "104370.38"
                                },
                                {
                                    "customer_name": "Marta's Replicas Co.",
                                    "total_sales": "103080.38"
                                },
                                {
                                    "customer_name": "Gift Depot Inc.",
                                    "total_sales": "101894.79"
                                },
                                {
                                    "customer_name": "Heintze Collectables",
                                    "total_sales": "100595.55"
                                },
                                {
                                    "customer_name": "Toms Spezialitten, Ltd",
                                    "total_sales": "100306.58"
                                },
                                {
                                    "customer_name": "FunGiftIdeas.com",
                                    "total_sales": "98923.73"
                                },
                                {
                                    "customer_name": "La Corne D'abondance, Co.",
                                    "total_sales": "97203.68"
                                },
                                {
                                    "customer_name": "Amica Models & Co.",
                                    "total_sales": "94117.26"
                                },
                                {
                                    "customer_name": "Cruz & Sons Co.",
                                    "total_sales": "94015.73"
                                },
                                {
                                    "customer_name": "Auto Canal Petit",
                                    "total_sales": "93170.66"
                                },
                                {
                                    "customer_name": "Stylish Desk Decors, Co.",
                                    "total_sales": "88804.50"
                                },
                                {
                                    "customer_name": "Vitachrome Inc.",
                                    "total_sales": "88041.26"
                                },
                                {
                                    "customer_name": "Collectable Mini Designs Co.",
                                    "total_sales": "87489.23"
                                },
                                {
                                    "customer_name": "Mini Classics",
                                    "total_sales": "85555.99"
                                },
                                {
                                    "customer_name": "Blauer See Auto, Co.",
                                    "total_sales": "85171.59"
                                },
                                {
                                    "customer_name": "Motor Mint Distributors Inc.",
                                    "total_sales": "83682.16"
                                },
                                {
                                    "customer_name": "Tekni Collectables Inc.",
                                    "total_sales": "83228.19"
                                },
                                {
                                    "customer_name": "Gifts4AllAges.com",
                                    "total_sales": "83209.88"
                                },
                                {
                                    "customer_name": "Signal Gift Stores",
                                    "total_sales": "82751.08"
                                },
                                {
                                    "customer_name": "Collectables For Less Inc.",
                                    "total_sales": "81577.98"
                                },
                                {
                                    "customer_name": "Mini Caravy",
                                    "total_sales": "80438.48"
                                },
                                {
                                    "customer_name": "Super Scale Inc.",
                                    "total_sales": "79472.07"
                                },
                                {
                                    "customer_name": "Norway Gifts By Mail, Co.",
                                    "total_sales": "79224.23"
                                },
                                {
                                    "customer_name": "Lyon Souveniers",
                                    "total_sales": "78570.34"
                                },
                                {
                                    "customer_name": "Enaco Distributors",
                                    "total_sales": "78411.86"
                                },
                                {
                                    "customer_name": "giftsbymail.co.uk",
                                    "total_sales": "78240.84"
                                },
                                {
                                    "customer_name": "Classic Legends Inc.",
                                    "total_sales": "77795.20"
                                },
                                {
                                    "customer_name": "Volvo Model Replicas, Co",
                                    "total_sales": "75754.88"
                                },
                                {
                                    "customer_name": "Canadian Gift Exchange Network",
                                    "total_sales": "75238.92"
                                },
                                {
                                    "customer_name": "Petit Auto",
                                    "total_sales": "74972.52"
                                },
                                {
                                    "customer_name": "Marseille Mini Autos",
                                    "total_sales": "74936.14"
                                },
                                {
                                    "customer_name": "Royal Canadian Collectables, Ltd.",
                                    "total_sales": "74634.85"
                                },
                                {
                                    "customer_name": "Mini Wheels Co.",
                                    "total_sales": "74476.18"
                                },
                                {
                                    "customer_name": "Quebec Home Shopping Network",
                                    "total_sales": "74204.79"
                                },
                                {
                                    "customer_name": "Diecast Collectables",
                                    "total_sales": "70859.78"
                                },
                                {
                                    "customer_name": "Alpha Cognac",
                                    "total_sales": "70488.44"
                                },
                                {
                                    "customer_name": "Daedalus Designs Imports",
                                    "total_sales": "69052.41"
                                },
                                {
                                    "customer_name": "Osaka Souveniers Co.",
                                    "total_sales": "67605.07"
                                },
                                {
                                    "customer_name": "Classic Gift Ideas, Inc",
                                    "total_sales": "67506.97"
                                },
                                {
                                    "customer_name": "Auto Assoc. & Cie.",
                                    "total_sales": "64834.32"
                                },
                                {
                                    "customer_name": "Australian Collectables, Ltd",
                                    "total_sales": "64591.46"
                                },
                                {
                                    "customer_name": "Australian Gift Network, Co",
                                    "total_sales": "59469.12"
                                },
                                {
                                    "customer_name": "Clover Collections, Co.",
                                    "total_sales": "57756.43"
                                },
                                {
                                    "customer_name": "Gift Ideas Corp.",
                                    "total_sales": "57294.42"
                                },
                                {
                                    "customer_name": "Online Mini Collectables",
                                    "total_sales": "57197.96"
                                },
                                {
                                    "customer_name": "Iberia Gift Imports, Corp.",
                                    "total_sales": "54723.62"
                                },
                                {
                                    "customer_name": "Mini Auto Werke",
                                    "total_sales": "52263.90"
                                },
                                {
                                    "customer_name": "Signal Collectibles Ltd.",
                                    "total_sales": "50218.51"
                                },
                                {
                                    "customer_name": "CAF Imports",
                                    "total_sales": "49642.05"
                                },
                                {
                                    "customer_name": "Men 'R' US Retailers, Ltd.",
                                    "total_sales": "48048.46"
                                },
                                {
                                    "customer_name": "West Coast Collectables Co.",
                                    "total_sales": "46084.64"
                                },
                                {
                                    "customer_name": "Cambridge Collectables Co.",
                                    "total_sales": "36163.62"
                                },
                                {
                                    "customer_name": "Double Decker Gift Stores, Ltd",
                                    "total_sales": "36019.04"
                                },
                                {
                                    "customer_name": "Bavarian Collectables Imports, Co.",
                                    "total_sales": "34993.92"
                                },
                                {
                                    "customer_name": "Royale Belge",
                                    "total_sales": "33440.10"
                                },
                                {
                                    "customer_name": "Microscale Inc.",
                                    "total_sales": "33144.93"
                                },
                                {
                                    "customer_name": "Auto-Moto Classics Inc.",
                                    "total_sales": "26479.26"
                                },
                                {
                                    "customer_name": "Atelier graphique",
                                    "total_sales": "24179.96"
                                },
                                {
                                    "customer_name": "Boards & Toys Co.",
                                    "total_sales": "9129.35"
                                }
                            ]
                        },
                        "text/html": [
                            "<table>",
                            "<tr><th>customer_name</th><th>total_sales</th></tr>",
                            "<tr><td>Euro Shopping Channel</td><td>912294.11</td></tr>",
                            "<tr><td>Mini Gifts Distributors Ltd.</td><td>654858.06</td></tr>",
                            "<tr><td>Australian Collectors, Co.</td><td>200995.41</td></tr>",
                            "<tr><td>Muscle Machine Inc</td><td>197736.94</td></tr>",
                            "<tr><td>La Rochelle Gifts</td><td>180124.90</td></tr>",
                            "<tr><td>Dragon Souveniers, Ltd.</td><td>172989.68</td></tr>",
                            "<tr><td>Land of Toys Inc.</td><td>164069.44</td></tr>",
                            "<tr><td>The Sharp Gifts Warehouse</td><td>160010.27</td></tr>",
                            "<tr><td>AV Stores, Co.</td><td>157807.81</td></tr>",
                            "<tr><td>Anna&#39;s Decorations, Ltd</td><td>153996.13</td></tr>",
                            "<tr><td>Souveniers And Things Co.</td><td>151570.98</td></tr>",
                            "<tr><td>Corporate Gift Ideas Co.</td><td>149882.50</td></tr>",
                            "<tr><td>Salzburg Collectables</td><td>149798.63</td></tr>",
                            "<tr><td>Danish Wholesale Imports</td><td>145041.60</td></tr>",
                            "<tr><td>Saveley &amp; Henriot, Co.</td><td>142874.25</td></tr>",
                            "<tr><td>L&#39;ordine Souveniers</td><td>142601.33</td></tr>",
                            "<tr><td>Rovelli Gifts</td><td>137955.72</td></tr>",
                            "<tr><td>Reims Collectables</td><td>135042.94</td></tr>",
                            "<tr><td>Scandinavian Gift Ideas</td><td>134259.33</td></tr>",
                            "<tr><td>Online Diecast Creations Co.</td><td>131685.30</td></tr>",
                            "<tr><td>Diecast Classics Inc.</td><td>122138.14</td></tr>",
                            "<tr><td>Technics Stores Inc.</td><td>120783.07</td></tr>",
                            "<tr><td>Corrida Auto Replicas, Ltd</td><td>120615.28</td></tr>",
                            "<tr><td>Tokyo Collectables, Ltd</td><td>120562.74</td></tr>",
                            "<tr><td>UK Collectables, Ltd.</td><td>118008.27</td></tr>",
                            "<tr><td>Vida Sport, Ltd</td><td>117713.56</td></tr>",
                            "<tr><td>Baane Mini Imports</td><td>116599.19</td></tr>",
                            "<tr><td>Handji Gifts&amp; Co</td><td>115498.73</td></tr>",
                            "<tr><td>Suominen Souveniers</td><td>113961.15</td></tr>",
                            "<tr><td>Herkku Gifts</td><td>111640.28</td></tr>",
                            "<tr><td>Toys of Finland, Co.</td><td>111250.38</td></tr>",
                            "<tr><td>Mini Creations Ltd.</td><td>108951.13</td></tr>",
                            "<tr><td>Toys4GrownUps.com</td><td>104561.96</td></tr>",
                            "<tr><td>Oulu Toy Supplies, Inc.</td><td>104370.38</td></tr>",
                            "<tr><td>Marta&#39;s Replicas Co.</td><td>103080.38</td></tr>",
                            "<tr><td>Gift Depot Inc.</td><td>101894.79</td></tr>",
                            "<tr><td>Heintze Collectables</td><td>100595.55</td></tr>",
                            "<tr><td>Toms Spezialitten, Ltd</td><td>100306.58</td></tr>",
                            "<tr><td>FunGiftIdeas.com</td><td>98923.73</td></tr>",
                            "<tr><td>La Corne D&#39;abondance, Co.</td><td>97203.68</td></tr>",
                            "<tr><td>Amica Models &amp; Co.</td><td>94117.26</td></tr>",
                            "<tr><td>Cruz &amp; Sons Co.</td><td>94015.73</td></tr>",
                            "<tr><td>Auto Canal Petit</td><td>93170.66</td></tr>",
                            "<tr><td>Stylish Desk Decors, Co.</td><td>88804.50</td></tr>",
                            "<tr><td>Vitachrome Inc.</td><td>88041.26</td></tr>",
                            "<tr><td>Collectable Mini Designs Co.</td><td>87489.23</td></tr>",
                            "<tr><td>Mini Classics</td><td>85555.99</td></tr>",
                            "<tr><td>Blauer See Auto, Co.</td><td>85171.59</td></tr>",
                            "<tr><td>Motor Mint Distributors Inc.</td><td>83682.16</td></tr>",
                            "<tr><td>Tekni Collectables Inc.</td><td>83228.19</td></tr>",
                            "<tr><td>Gifts4AllAges.com</td><td>83209.88</td></tr>",
                            "<tr><td>Signal Gift Stores</td><td>82751.08</td></tr>",
                            "<tr><td>Collectables For Less Inc.</td><td>81577.98</td></tr>",
                            "<tr><td>Mini Caravy</td><td>80438.48</td></tr>",
                            "<tr><td>Super Scale Inc.</td><td>79472.07</td></tr>",
                            "<tr><td>Norway Gifts By Mail, Co.</td><td>79224.23</td></tr>",
                            "<tr><td>Lyon Souveniers</td><td>78570.34</td></tr>",
                            "<tr><td>Enaco Distributors</td><td>78411.86</td></tr>",
                            "<tr><td>giftsbymail.co.uk</td><td>78240.84</td></tr>",
                            "<tr><td>Classic Legends Inc.</td><td>77795.20</td></tr>",
                            "<tr><td>Volvo Model Replicas, Co</td><td>75754.88</td></tr>",
                            "<tr><td>Canadian Gift Exchange Network</td><td>75238.92</td></tr>",
                            "<tr><td>Petit Auto</td><td>74972.52</td></tr>",
                            "<tr><td>Marseille Mini Autos</td><td>74936.14</td></tr>",
                            "<tr><td>Royal Canadian Collectables, Ltd.</td><td>74634.85</td></tr>",
                            "<tr><td>Mini Wheels Co.</td><td>74476.18</td></tr>",
                            "<tr><td>Quebec Home Shopping Network</td><td>74204.79</td></tr>",
                            "<tr><td>Diecast Collectables</td><td>70859.78</td></tr>",
                            "<tr><td>Alpha Cognac</td><td>70488.44</td></tr>",
                            "<tr><td>Daedalus Designs Imports</td><td>69052.41</td></tr>",
                            "<tr><td>Osaka Souveniers Co.</td><td>67605.07</td></tr>",
                            "<tr><td>Classic Gift Ideas, Inc</td><td>67506.97</td></tr>",
                            "<tr><td>Auto Assoc. &amp; Cie.</td><td>64834.32</td></tr>",
                            "<tr><td>Australian Collectables, Ltd</td><td>64591.46</td></tr>",
                            "<tr><td>Australian Gift Network, Co</td><td>59469.12</td></tr>",
                            "<tr><td>Clover Collections, Co.</td><td>57756.43</td></tr>",
                            "<tr><td>Gift Ideas Corp.</td><td>57294.42</td></tr>",
                            "<tr><td>Online Mini Collectables</td><td>57197.96</td></tr>",
                            "<tr><td>Iberia Gift Imports, Corp.</td><td>54723.62</td></tr>",
                            "<tr><td>Mini Auto Werke</td><td>52263.90</td></tr>",
                            "<tr><td>Signal Collectibles Ltd.</td><td>50218.51</td></tr>",
                            "<tr><td>CAF Imports</td><td>49642.05</td></tr>",
                            "<tr><td>Men &#39;R&#39; US Retailers, Ltd.</td><td>48048.46</td></tr>",
                            "<tr><td>West Coast Collectables Co.</td><td>46084.64</td></tr>",
                            "<tr><td>Cambridge Collectables Co.</td><td>36163.62</td></tr>",
                            "<tr><td>Double Decker Gift Stores, Ltd</td><td>36019.04</td></tr>",
                            "<tr><td>Bavarian Collectables Imports, Co.</td><td>34993.92</td></tr>",
                            "<tr><td>Royale Belge</td><td>33440.10</td></tr>",
                            "<tr><td>Microscale Inc.</td><td>33144.93</td></tr>",
                            "<tr><td>Auto-Moto Classics Inc.</td><td>26479.26</td></tr>",
                            "<tr><td>Atelier graphique</td><td>24179.96</td></tr>",
                            "<tr><td>Boards &amp; Toys Co.</td><td>9129.35</td></tr>",
                            "</table>"
                        ]
                    }
                }
            ],
            "execution_count": 1
        },
        {
            "cell_type": "code",
            "source": [
                "-- Top 10 most ordered products\n",
                "SELECT \n",
                "    p.product_code,\n",
                "    SUM(od.quantity_ordered) as total_quantity_ordered\n",
                "FROM products p\n",
                "JOIN order_details od ON p.product_code = od.product_code\n",
                "GROUP BY p.product_code\n",
                "ORDER BY total_quantity_ordered DESC\n",
                "LIMIT 10; "
            ],
            "metadata": {
                "azdata_cell_guid": "117116c6-05c9-4f7f-8c00-e63a58467ba3",
                "language": "sql"
            },
            "outputs": [
                {
                    "output_type": "display_data",
                    "data": {
                        "text/html": "(10 row(s) affected)"
                    },
                    "metadata": {}
                },
                {
                    "output_type": "display_data",
                    "data": {
                        "text/html": "Total execution time: 00:00:00.024"
                    },
                    "metadata": {}
                },
                {
                    "output_type": "execute_result",
                    "metadata": {},
                    "execution_count": 8,
                    "data": {
                        "application/vnd.dataresource+json": {
                            "schema": {
                                "fields": [
                                    {
                                        "name": "product_code"
                                    },
                                    {
                                        "name": "total_quantity_ordered"
                                    }
                                ]
                            },
                            "data": [
                                {
                                    "product_code": "S18_3232",
                                    "total_quantity_ordered": "1774"
                                },
                                {
                                    "product_code": "S24_3856",
                                    "total_quantity_ordered": "1052"
                                },
                                {
                                    "product_code": "S18_4600",
                                    "total_quantity_ordered": "1031"
                                },
                                {
                                    "product_code": "S700_4002",
                                    "total_quantity_ordered": "1029"
                                },
                                {
                                    "product_code": "S12_4473",
                                    "total_quantity_ordered": "1024"
                                },
                                {
                                    "product_code": "S24_3949",
                                    "total_quantity_ordered": "1008"
                                },
                                {
                                    "product_code": "S18_1097",
                                    "total_quantity_ordered": "999"
                                },
                                {
                                    "product_code": "S50_1341",
                                    "total_quantity_ordered": "999"
                                },
                                {
                                    "product_code": "S18_2432",
                                    "total_quantity_ordered": "998"
                                },
                                {
                                    "product_code": "S18_3856",
                                    "total_quantity_ordered": "997"
                                }
                            ]
                        },
                        "text/html": [
                            "<table>",
                            "<tr><th>product_code</th><th>total_quantity_ordered</th></tr>",
                            "<tr><td>S18_3232</td><td>1774</td></tr>",
                            "<tr><td>S24_3856</td><td>1052</td></tr>",
                            "<tr><td>S18_4600</td><td>1031</td></tr>",
                            "<tr><td>S700_4002</td><td>1029</td></tr>",
                            "<tr><td>S12_4473</td><td>1024</td></tr>",
                            "<tr><td>S24_3949</td><td>1008</td></tr>",
                            "<tr><td>S18_1097</td><td>999</td></tr>",
                            "<tr><td>S50_1341</td><td>999</td></tr>",
                            "<tr><td>S18_2432</td><td>998</td></tr>",
                            "<tr><td>S18_3856</td><td>997</td></tr>",
                            "</table>"
                        ]
                    }
                }
            ],
            "execution_count": 8
        },
        {
            "cell_type": "code",
            "source": [
                "-- Count by order status\n",
                "SELECT \n",
                "    status,\n",
                "    COUNT(order_number) as order_count\n",
                "FROM orders\n",
                "GROUP BY status\n",
                "ORDER BY order_count DESC;"
            ],
            "metadata": {
                "azdata_cell_guid": "3098a48a-23e8-482f-93c8-996fd2c40d0c",
                "language": "sql"
            },
            "outputs": [
                {
                    "output_type": "display_data",
                    "data": {
                        "text/html": "(6 row(s) affected)"
                    },
                    "metadata": {}
                },
                {
                    "output_type": "display_data",
                    "data": {
                        "text/html": "Total execution time: 00:00:00.004"
                    },
                    "metadata": {}
                },
                {
                    "output_type": "execute_result",
                    "metadata": {},
                    "execution_count": 9,
                    "data": {
                        "application/vnd.dataresource+json": {
                            "schema": {
                                "fields": [
                                    {
                                        "name": "status"
                                    },
                                    {
                                        "name": "order_count"
                                    }
                                ]
                            },
                            "data": [
                                {
                                    "status": "Shipped",
                                    "order_count": "286"
                                },
                                {
                                    "status": "In Process",
                                    "order_count": "6"
                                },
                                {
                                    "status": "Resolved",
                                    "order_count": "4"
                                },
                                {
                                    "status": "Cancelled",
                                    "order_count": "4"
                                },
                                {
                                    "status": "On Hold",
                                    "order_count": "4"
                                },
                                {
                                    "status": "Disputed",
                                    "order_count": "3"
                                }
                            ]
                        },
                        "text/html": [
                            "<table>",
                            "<tr><th>status</th><th>order_count</th></tr>",
                            "<tr><td>Shipped</td><td>286</td></tr>",
                            "<tr><td>In Process</td><td>6</td></tr>",
                            "<tr><td>Resolved</td><td>4</td></tr>",
                            "<tr><td>Cancelled</td><td>4</td></tr>",
                            "<tr><td>On Hold</td><td>4</td></tr>",
                            "<tr><td>Disputed</td><td>3</td></tr>",
                            "</table>"
                        ]
                    }
                }
            ],
            "execution_count": 9
        },
        {
            "cell_type": "code",
            "source": [
                "-- Avg Order Value by Customer\n",
                "SELECT \n",
                "    c.customer_name,\n",
                "    ROUND(AVG(od.sales), 2) as avg_order_value\n",
                "FROM customers c\n",
                "JOIN orders o ON c.customer_id = o.customer_id\n",
                "JOIN order_details od on o.order_number = od.order_number\n",
                "GROUP BY c.customer_name\n",
                "ORDER BY avg_order_value DESC;\n",
                ""
            ],
            "metadata": {
                "azdata_cell_guid": "6db64e41-869c-427a-8e29-891bcc0f5be4",
                "language": "sql"
            },
            "outputs": [
                {
                    "output_type": "display_data",
                    "data": {
                        "text/html": "(92 row(s) affected)"
                    },
                    "metadata": {}
                },
                {
                    "output_type": "display_data",
                    "data": {
                        "text/html": "Total execution time: 00:00:00.010"
                    },
                    "metadata": {}
                },
                {
                    "output_type": "execute_result",
                    "metadata": {},
                    "execution_count": 14,
                    "data": {
                        "application/vnd.dataresource+json": {
                            "schema": {
                                "fields": [
                                    {
                                        "name": "customer_name"
                                    },
                                    {
                                        "name": "avg_order_value"
                                    }
                                ]
                            },
                            "data": [
                                {
                                    "customer_name": "Super Scale Inc.",
                                    "avg_order_value": "4674.83"
                                },
                                {
                                    "customer_name": "Mini Caravy",
                                    "avg_order_value": "4233.60"
                                },
                                {
                                    "customer_name": "La Corne D'abondance, Co.",
                                    "avg_order_value": "4226.25"
                                },
                                {
                                    "customer_name": "Royale Belge",
                                    "avg_order_value": "4180.01"
                                },
                                {
                                    "customer_name": "Muscle Machine Inc",
                                    "avg_order_value": "4119.52"
                                },
                                {
                                    "customer_name": "Gift Depot Inc.",
                                    "avg_order_value": "4075.79"
                                },
                                {
                                    "customer_name": "UK Collectables, Ltd.",
                                    "avg_order_value": "4069.25"
                                },
                                {
                                    "customer_name": "Danish Wholesale Imports",
                                    "avg_order_value": "4028.93"
                                },
                                {
                                    "customer_name": "Dragon Souveniers, Ltd.",
                                    "avg_order_value": "4023.02"
                                },
                                {
                                    "customer_name": "The Sharp Gifts Warehouse",
                                    "avg_order_value": "4000.26"
                                },
                                {
                                    "customer_name": "Volvo Model Replicas, Co",
                                    "avg_order_value": "3987.10"
                                },
                                {
                                    "customer_name": "Australian Gift Network, Co",
                                    "avg_order_value": "3964.61"
                                },
                                {
                                    "customer_name": "Tekni Collectables Inc.",
                                    "avg_order_value": "3963.25"
                                },
                                {
                                    "customer_name": "Diecast Classics Inc.",
                                    "avg_order_value": "3939.94"
                                },
                                {
                                    "customer_name": "Diecast Collectables",
                                    "avg_order_value": "3936.65"
                                },
                                {
                                    "customer_name": "Lyon Souveniers",
                                    "avg_order_value": "3928.52"
                                },
                                {
                                    "customer_name": "Classic Legends Inc.",
                                    "avg_order_value": "3889.76"
                                },
                                {
                                    "customer_name": "Online Diecast Creations Co.",
                                    "avg_order_value": "3873.10"
                                },
                                {
                                    "customer_name": "Blauer See Auto, Co.",
                                    "avg_order_value": "3871.44"
                                },
                                {
                                    "customer_name": "Toms Spezialitten, Ltd",
                                    "avg_order_value": "3857.95"
                                },
                                {
                                    "customer_name": "Herkku Gifts",
                                    "avg_order_value": "3849.66"
                                },
                                {
                                    "customer_name": "CAF Imports",
                                    "avg_order_value": "3818.62"
                                },
                                {
                                    "customer_name": "Marta's Replicas Co.",
                                    "avg_order_value": "3817.79"
                                },
                                {
                                    "customer_name": "Online Mini Collectables",
                                    "avg_order_value": "3813.20"
                                },
                                {
                                    "customer_name": "FunGiftIdeas.com",
                                    "avg_order_value": "3804.76"
                                },
                                {
                                    "customer_name": "Suominen Souveniers",
                                    "avg_order_value": "3798.71"
                                },
                                {
                                    "customer_name": "Vida Sport, Ltd",
                                    "avg_order_value": "3797.21"
                                },
                                {
                                    "customer_name": "Corrida Auto Replicas, Ltd",
                                    "avg_order_value": "3769.23"
                                },
                                {
                                    "customer_name": "Tokyo Collectables, Ltd",
                                    "avg_order_value": "3767.59"
                                },
                                {
                                    "customer_name": "Salzburg Collectables",
                                    "avg_order_value": "3744.97"
                                },
                                {
                                    "customer_name": "Heintze Collectables",
                                    "avg_order_value": "3725.76"
                                },
                                {
                                    "customer_name": "Toys of Finland, Co.",
                                    "avg_order_value": "3708.35"
                                },
                                {
                                    "customer_name": "L'ordine Souveniers",
                                    "avg_order_value": "3656.44"
                                },
                                {
                                    "customer_name": "Corporate Gift Ideas Co.",
                                    "avg_order_value": "3655.67"
                                },
                                {
                                    "customer_name": "Australian Collectors, Co.",
                                    "avg_order_value": "3654.46"
                                },
                                {
                                    "customer_name": "Iberia Gift Imports, Corp.",
                                    "avg_order_value": "3648.24"
                                },
                                {
                                    "customer_name": "Baane Mini Imports",
                                    "avg_order_value": "3643.72"
                                },
                                {
                                    "customer_name": "Motor Mint Distributors Inc.",
                                    "avg_order_value": "3638.35"
                                },
                                {
                                    "customer_name": "Mini Gifts Distributors Ltd.",
                                    "avg_order_value": "3638.10"
                                },
                                {
                                    "customer_name": "Amica Models & Co.",
                                    "avg_order_value": "3619.89"
                                },
                                {
                                    "customer_name": "Cruz & Sons Co.",
                                    "avg_order_value": "3615.99"
                                },
                                {
                                    "customer_name": "Clover Collections, Co.",
                                    "avg_order_value": "3609.78"
                                },
                                {
                                    "customer_name": "Auto Assoc. & Cie.",
                                    "avg_order_value": "3601.91"
                                },
                                {
                                    "customer_name": "Technics Stores Inc.",
                                    "avg_order_value": "3552.44"
                                },
                                {
                                    "customer_name": "Mini Wheels Co.",
                                    "avg_order_value": "3546.48"
                                },
                                {
                                    "customer_name": "West Coast Collectables Co.",
                                    "avg_order_value": "3544.97"
                                },
                                {
                                    "customer_name": "Scandinavian Gift Ideas",
                                    "avg_order_value": "3533.14"
                                },
                                {
                                    "customer_name": "Alpha Cognac",
                                    "avg_order_value": "3524.42"
                                },
                                {
                                    "customer_name": "Euro Shopping Channel",
                                    "avg_order_value": "3522.37"
                                },
                                {
                                    "customer_name": "Vitachrome Inc.",
                                    "avg_order_value": "3521.65"
                                },
                                {
                                    "customer_name": "Collectable Mini Designs Co.",
                                    "avg_order_value": "3499.57"
                                },
                                {
                                    "customer_name": "Toys4GrownUps.com",
                                    "avg_order_value": "3485.40"
                                },
                                {
                                    "customer_name": "Saveley & Henriot, Co.",
                                    "avg_order_value": "3484.74"
                                },
                                {
                                    "customer_name": "Mini Auto Werke",
                                    "avg_order_value": "3484.26"
                                },
                                {
                                    "customer_name": "Atelier graphique",
                                    "avg_order_value": "3454.28"
                                },
                                {
                                    "customer_name": "Daedalus Designs Imports",
                                    "avg_order_value": "3452.62"
                                },
                                {
                                    "customer_name": "Auto Canal Petit",
                                    "avg_order_value": "3450.77"
                                },
                                {
                                    "customer_name": "Men 'R' US Retailers, Ltd.",
                                    "avg_order_value": "3432.03"
                                },
                                {
                                    "customer_name": "Canadian Gift Exchange Network",
                                    "avg_order_value": "3419.95"
                                },
                                {
                                    "customer_name": "Stylish Desk Decors, Co.",
                                    "avg_order_value": "3415.56"
                                },
                                {
                                    "customer_name": "Enaco Distributors",
                                    "avg_order_value": "3409.21"
                                },
                                {
                                    "customer_name": "Collectables For Less Inc.",
                                    "avg_order_value": "3399.08"
                                },
                                {
                                    "customer_name": "La Rochelle Gifts",
                                    "avg_order_value": "3398.58"
                                },
                                {
                                    "customer_name": "Osaka Souveniers Co.",
                                    "avg_order_value": "3380.25"
                                },
                                {
                                    "customer_name": "Quebec Home Shopping Network",
                                    "avg_order_value": "3372.95"
                                },
                                {
                                    "customer_name": "Land of Toys Inc.",
                                    "avg_order_value": "3348.36"
                                },
                                {
                                    "customer_name": "Signal Collectibles Ltd.",
                                    "avg_order_value": "3347.90"
                                },
                                {
                                    "customer_name": "Anna's Decorations, Ltd",
                                    "avg_order_value": "3347.74"
                                },
                                {
                                    "customer_name": "Microscale Inc.",
                                    "avg_order_value": "3314.49"
                                },
                                {
                                    "customer_name": "Auto-Moto Classics Inc.",
                                    "avg_order_value": "3309.91"
                                },
                                {
                                    "customer_name": "Norway Gifts By Mail, Co.",
                                    "avg_order_value": "3301.01"
                                },
                                {
                                    "customer_name": "Souveniers And Things Co.",
                                    "avg_order_value": "3295.02"
                                },
                                {
                                    "customer_name": "Reims Collectables",
                                    "avg_order_value": "3293.73"
                                },
                                {
                                    "customer_name": "Mini Classics",
                                    "avg_order_value": "3290.62"
                                },
                                {
                                    "customer_name": "Cambridge Collectables Co.",
                                    "avg_order_value": "3287.60"
                                },
                                {
                                    "customer_name": "Oulu Toy Supplies, Inc.",
                                    "avg_order_value": "3261.57"
                                },
                                {
                                    "customer_name": "Classic Gift Ideas, Inc",
                                    "avg_order_value": "3214.62"
                                },
                                {
                                    "customer_name": "Handji Gifts& Co",
                                    "avg_order_value": "3208.30"
                                },
                                {
                                    "customer_name": "Gifts4AllAges.com",
                                    "avg_order_value": "3200.38"
                                },
                                {
                                    "customer_name": "Mini Creations Ltd.",
                                    "avg_order_value": "3112.89"
                                },
                                {
                                    "customer_name": "AV Stores, Co.",
                                    "avg_order_value": "3094.27"
                                },
                                {
                                    "customer_name": "Boards & Toys Co.",
                                    "avg_order_value": "3043.12"
                                },
                                {
                                    "customer_name": "Gift Ideas Corp.",
                                    "avg_order_value": "3015.50"
                                },
                                {
                                    "customer_name": "giftsbymail.co.uk",
                                    "avg_order_value": "3009.26"
                                },
                                {
                                    "customer_name": "Double Decker Gift Stores, Ltd",
                                    "avg_order_value": "3001.59"
                                },
                                {
                                    "customer_name": "Petit Auto",
                                    "avg_order_value": "2998.90"
                                },
                                {
                                    "customer_name": "Marseille Mini Autos",
                                    "avg_order_value": "2997.45"
                                },
                                {
                                    "customer_name": "Rovelli Gifts",
                                    "avg_order_value": "2874.08"
                                },
                                {
                                    "customer_name": "Royal Canadian Collectables, Ltd.",
                                    "avg_order_value": "2870.57"
                                },
                                {
                                    "customer_name": "Signal Gift Stores",
                                    "avg_order_value": "2853.49"
                                },
                                {
                                    "customer_name": "Australian Collectables, Ltd",
                                    "avg_order_value": "2808.32"
                                },
                                {
                                    "customer_name": "Bavarian Collectables Imports, Co.",
                                    "avg_order_value": "2499.57"
                                }
                            ]
                        },
                        "text/html": [
                            "<table>",
                            "<tr><th>customer_name</th><th>avg_order_value</th></tr>",
                            "<tr><td>Super Scale Inc.</td><td>4674.83</td></tr>",
                            "<tr><td>Mini Caravy</td><td>4233.60</td></tr>",
                            "<tr><td>La Corne D&#39;abondance, Co.</td><td>4226.25</td></tr>",
                            "<tr><td>Royale Belge</td><td>4180.01</td></tr>",
                            "<tr><td>Muscle Machine Inc</td><td>4119.52</td></tr>",
                            "<tr><td>Gift Depot Inc.</td><td>4075.79</td></tr>",
                            "<tr><td>UK Collectables, Ltd.</td><td>4069.25</td></tr>",
                            "<tr><td>Danish Wholesale Imports</td><td>4028.93</td></tr>",
                            "<tr><td>Dragon Souveniers, Ltd.</td><td>4023.02</td></tr>",
                            "<tr><td>The Sharp Gifts Warehouse</td><td>4000.26</td></tr>",
                            "<tr><td>Volvo Model Replicas, Co</td><td>3987.10</td></tr>",
                            "<tr><td>Australian Gift Network, Co</td><td>3964.61</td></tr>",
                            "<tr><td>Tekni Collectables Inc.</td><td>3963.25</td></tr>",
                            "<tr><td>Diecast Classics Inc.</td><td>3939.94</td></tr>",
                            "<tr><td>Diecast Collectables</td><td>3936.65</td></tr>",
                            "<tr><td>Lyon Souveniers</td><td>3928.52</td></tr>",
                            "<tr><td>Classic Legends Inc.</td><td>3889.76</td></tr>",
                            "<tr><td>Online Diecast Creations Co.</td><td>3873.10</td></tr>",
                            "<tr><td>Blauer See Auto, Co.</td><td>3871.44</td></tr>",
                            "<tr><td>Toms Spezialitten, Ltd</td><td>3857.95</td></tr>",
                            "<tr><td>Herkku Gifts</td><td>3849.66</td></tr>",
                            "<tr><td>CAF Imports</td><td>3818.62</td></tr>",
                            "<tr><td>Marta&#39;s Replicas Co.</td><td>3817.79</td></tr>",
                            "<tr><td>Online Mini Collectables</td><td>3813.20</td></tr>",
                            "<tr><td>FunGiftIdeas.com</td><td>3804.76</td></tr>",
                            "<tr><td>Suominen Souveniers</td><td>3798.71</td></tr>",
                            "<tr><td>Vida Sport, Ltd</td><td>3797.21</td></tr>",
                            "<tr><td>Corrida Auto Replicas, Ltd</td><td>3769.23</td></tr>",
                            "<tr><td>Tokyo Collectables, Ltd</td><td>3767.59</td></tr>",
                            "<tr><td>Salzburg Collectables</td><td>3744.97</td></tr>",
                            "<tr><td>Heintze Collectables</td><td>3725.76</td></tr>",
                            "<tr><td>Toys of Finland, Co.</td><td>3708.35</td></tr>",
                            "<tr><td>L&#39;ordine Souveniers</td><td>3656.44</td></tr>",
                            "<tr><td>Corporate Gift Ideas Co.</td><td>3655.67</td></tr>",
                            "<tr><td>Australian Collectors, Co.</td><td>3654.46</td></tr>",
                            "<tr><td>Iberia Gift Imports, Corp.</td><td>3648.24</td></tr>",
                            "<tr><td>Baane Mini Imports</td><td>3643.72</td></tr>",
                            "<tr><td>Motor Mint Distributors Inc.</td><td>3638.35</td></tr>",
                            "<tr><td>Mini Gifts Distributors Ltd.</td><td>3638.10</td></tr>",
                            "<tr><td>Amica Models &amp; Co.</td><td>3619.89</td></tr>",
                            "<tr><td>Cruz &amp; Sons Co.</td><td>3615.99</td></tr>",
                            "<tr><td>Clover Collections, Co.</td><td>3609.78</td></tr>",
                            "<tr><td>Auto Assoc. &amp; Cie.</td><td>3601.91</td></tr>",
                            "<tr><td>Technics Stores Inc.</td><td>3552.44</td></tr>",
                            "<tr><td>Mini Wheels Co.</td><td>3546.48</td></tr>",
                            "<tr><td>West Coast Collectables Co.</td><td>3544.97</td></tr>",
                            "<tr><td>Scandinavian Gift Ideas</td><td>3533.14</td></tr>",
                            "<tr><td>Alpha Cognac</td><td>3524.42</td></tr>",
                            "<tr><td>Euro Shopping Channel</td><td>3522.37</td></tr>",
                            "<tr><td>Vitachrome Inc.</td><td>3521.65</td></tr>",
                            "<tr><td>Collectable Mini Designs Co.</td><td>3499.57</td></tr>",
                            "<tr><td>Toys4GrownUps.com</td><td>3485.40</td></tr>",
                            "<tr><td>Saveley &amp; Henriot, Co.</td><td>3484.74</td></tr>",
                            "<tr><td>Mini Auto Werke</td><td>3484.26</td></tr>",
                            "<tr><td>Atelier graphique</td><td>3454.28</td></tr>",
                            "<tr><td>Daedalus Designs Imports</td><td>3452.62</td></tr>",
                            "<tr><td>Auto Canal Petit</td><td>3450.77</td></tr>",
                            "<tr><td>Men &#39;R&#39; US Retailers, Ltd.</td><td>3432.03</td></tr>",
                            "<tr><td>Canadian Gift Exchange Network</td><td>3419.95</td></tr>",
                            "<tr><td>Stylish Desk Decors, Co.</td><td>3415.56</td></tr>",
                            "<tr><td>Enaco Distributors</td><td>3409.21</td></tr>",
                            "<tr><td>Collectables For Less Inc.</td><td>3399.08</td></tr>",
                            "<tr><td>La Rochelle Gifts</td><td>3398.58</td></tr>",
                            "<tr><td>Osaka Souveniers Co.</td><td>3380.25</td></tr>",
                            "<tr><td>Quebec Home Shopping Network</td><td>3372.95</td></tr>",
                            "<tr><td>Land of Toys Inc.</td><td>3348.36</td></tr>",
                            "<tr><td>Signal Collectibles Ltd.</td><td>3347.90</td></tr>",
                            "<tr><td>Anna&#39;s Decorations, Ltd</td><td>3347.74</td></tr>",
                            "<tr><td>Microscale Inc.</td><td>3314.49</td></tr>",
                            "<tr><td>Auto-Moto Classics Inc.</td><td>3309.91</td></tr>",
                            "<tr><td>Norway Gifts By Mail, Co.</td><td>3301.01</td></tr>",
                            "<tr><td>Souveniers And Things Co.</td><td>3295.02</td></tr>",
                            "<tr><td>Reims Collectables</td><td>3293.73</td></tr>",
                            "<tr><td>Mini Classics</td><td>3290.62</td></tr>",
                            "<tr><td>Cambridge Collectables Co.</td><td>3287.60</td></tr>",
                            "<tr><td>Oulu Toy Supplies, Inc.</td><td>3261.57</td></tr>",
                            "<tr><td>Classic Gift Ideas, Inc</td><td>3214.62</td></tr>",
                            "<tr><td>Handji Gifts&amp; Co</td><td>3208.30</td></tr>",
                            "<tr><td>Gifts4AllAges.com</td><td>3200.38</td></tr>",
                            "<tr><td>Mini Creations Ltd.</td><td>3112.89</td></tr>",
                            "<tr><td>AV Stores, Co.</td><td>3094.27</td></tr>",
                            "<tr><td>Boards &amp; Toys Co.</td><td>3043.12</td></tr>",
                            "<tr><td>Gift Ideas Corp.</td><td>3015.50</td></tr>",
                            "<tr><td>giftsbymail.co.uk</td><td>3009.26</td></tr>",
                            "<tr><td>Double Decker Gift Stores, Ltd</td><td>3001.59</td></tr>",
                            "<tr><td>Petit Auto</td><td>2998.90</td></tr>",
                            "<tr><td>Marseille Mini Autos</td><td>2997.45</td></tr>",
                            "<tr><td>Rovelli Gifts</td><td>2874.08</td></tr>",
                            "<tr><td>Royal Canadian Collectables, Ltd.</td><td>2870.57</td></tr>",
                            "<tr><td>Signal Gift Stores</td><td>2853.49</td></tr>",
                            "<tr><td>Australian Collectables, Ltd</td><td>2808.32</td></tr>",
                            "<tr><td>Bavarian Collectables Imports, Co.</td><td>2499.57</td></tr>",
                            "</table>"
                        ]
                    }
                }
            ],
            "execution_count": 14
        }
    ]
}