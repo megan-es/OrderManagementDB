{
    "metadata": {
        "kernelspec": {
            "name": "python3",
            "display_name": "Python 3",
            "language": "python"
        },
        "language_info": {
            "name": "python",
            "version": "3.11.4",
            "mimetype": "text/x-python",
            "codemirror_mode": {
                "name": "ipython",
                "version": 3
            },
            "pygments_lexer": "ipython3",
            "nbconvert_exporter": "python",
            "file_extension": ".py"
        }
    },
    "nbformat_minor": 2,
    "nbformat": 4,
    "cells": [
        {
            "cell_type": "code",
            "source": [
                "-- Create database\n",
                "CREATE DATABASE OrderManagement;"
            ],
            "metadata": {
                "language": "python",
                "azdata_cell_guid": "f8518152-ec2f-43c6-a58c-4612ee26ec51"
            },
            "outputs": [],
            "execution_count": null
        },
        {
            "cell_type": "code",
            "source": [
                "-- Create tables\n",
                "-- Customers Table\n",
                "CREATE TABLE Customers (\n",
                "    CustomerID SERIAL PRIMARY KEY,\n",
                "    CustomerName VARCHAR(255) NOT NULL,\n",
                "    Phone VARCHAR(50),\n",
                "    AddressLine1 VARCHAR(255),\n",
                "    AddressLine2 VARCHAR(255),\n",
                "    City VARCHAR(50),\n",
                "    State VARCHAR(50),\n",
                "    PostalCode VARCHAR(50),\n",
                "    Country VARCHAR(50),\n",
                "    Territory VARCHAR(50),\n",
                "    ContactLastName VARCHAR(100),\n",
                "    ContactFirstName VARCHAR(100)\n",
                ");\n",
                "\n",
                "-- Products Table\n",
                "CREATE TABLE Products (\n",
                "    ProductCode VARCHAR(50) PRIMARY KEY,\n",
                "    ProductLine VARCHAR(255),\n",
                "    MSRP DECIMAL(10, 2)\n",
                ");\n",
                "\n",
                "-- Orders Table\n",
                "CREATE TABLE Orders (\n",
                "    OrderNumber INT PRIMARY KEY,\n",
                "    OrderDate DATE NOT NULL,\n",
                "    Status VARCHAR(50),\n",
                "    QTR_ID INT,\n",
                "    MONTH_ID INT,\n",
                "    YEAR_ID INT,\n",
                "    DealSize VARCHAR(50),\n",
                "    CustomerID INT,\n",
                "    FOREIGN KEY (CustomerID) REFERENCES Customers(CustomerID)\n",
                ");\n",
                "\n",
                "-- OrderDetails Table\n",
                "CREATE TABLE OrderDetails (\n",
                "    OrderDetailID SERIAL PRIMARY KEY,\n",
                "    OrderNumber INT,\n",
                "    ProductCode VARCHAR(50),\n",
                "    QuantityOrdered INT,\n",
                "    PriceEach DECIMAL(10, 2),\n",
                "    OrderLineNumber INT,\n",
                "    Sales DECIMAL(10, 2),\n",
                "    FOREIGN KEY (OrderNumber) REFERENCES Orders(OrderNumber),\n",
                "    FOREIGN KEY (ProductCode) REFERENCES Products(ProductCode)\n",
                ");"
            ],
            "metadata": {
                "azdata_cell_guid": "0bb1ceb5-983e-44b6-b88d-883eea19c11b",
                "language": "python"
            },
            "outputs": [
                {
                    "output_type": "display_data",
                    "data": {
                        "text/html": "Commands completed successfully"
                    },
                    "metadata": {}
                },
                {
                    "output_type": "display_data",
                    "data": {
                        "text/html": "Commands completed successfully"
                    },
                    "metadata": {}
                },
                {
                    "output_type": "error",
                    "ename": "",
                    "evalue": "relation \"orders\" already exists",
                    "traceback": []
                },
                {
                    "output_type": "display_data",
                    "data": {
                        "text/html": "Total execution time: 00:00:00.036"
                    },
                    "metadata": {}
                }
            ],
            "execution_count": 2
        },
        {
            "cell_type": "code",
            "source": [
                "import pandas as pd\n",
                "# Read CSV file \n",
                "df = pd.read_csv('/Users/meganwagnersmith/Desktop/OrderManagementData/sales_data_sample.csv', encoding='ISO-8859-1')\n",
                "print(df.columns)"
            ],
            "metadata": {
                "azdata_cell_guid": "bd95b816-d6c5-40cc-8bb9-24ee16a2268b",
                "language": "python"
            },
            "outputs": [
                {
                    "name": "stdout",
                    "text": "Index(['ORDERNUMBER', 'QUANTITYORDERED', 'PRICEEACH', 'ORDERLINENUMBER',\n       'SALES', 'ORDERDATE', 'STATUS', 'QTR_ID', 'MONTH_ID', 'YEAR_ID',\n       'PRODUCTLINE', 'MSRP', 'PRODUCTCODE', 'CUSTOMERNAME', 'PHONE',\n       'ADDRESSLINE1', 'ADDRESSLINE2', 'CITY', 'STATE', 'POSTALCODE',\n       'COUNTRY', 'TERRITORY', 'CONTACTLASTNAME', 'CONTACTFIRSTNAME',\n       'DEALSIZE'],\n      dtype='object')\n",
                    "output_type": "stream"
                }
            ],
            "execution_count": 10
        },
        {
            "cell_type": "code",
            "source": [
                "# Extracting unique customers\n",
                "customers_df = df[['CUSTOMERNAME', 'CONTACTFIRSTNAME', 'CONTACTLASTNAME', 'ADDRESSLINE1', 'ADDRESSLINE2', 'CITY', 'POSTALCODE', 'COUNTRY']].drop_duplicates()\n",
                "customers_df['CustomerID'] = range(1, 1+len(customers_df))\n",
                "customers_df['ContactName'] = customers_df['CONTACTFIRSTNAME'] + ' ' + customers_df['CONTACTLASTNAME']\n",
                "customers_df = customers_df[['CustomerID', 'CUSTOMERNAME', 'ContactName', 'ADDRESSLINE1', 'CITY', 'POSTALCODE', 'COUNTRY']]\n",
                "\n",
                "# Extracting orders\n",
                "orders_df = df[['ORDERNUMBER', 'ORDERDATE', 'STATUS', 'CUSTOMERNAME']].drop_duplicates()\n",
                "orders_df = orders_df.merge(customers_df[['CUSTOMERNAME', 'CustomerID']], on='CUSTOMERNAME', how='left')\n",
                "orders_df = orders_df[['ORDERNUMBER', 'CustomerID', 'ORDERDATE', 'STATUS']]\n",
                "\n",
                "# Extracting order details\n",
                "order_details_df = df[['ORDERNUMBER', 'PRODUCTCODE', 'QUANTITYORDERED', 'PRICEEACH']].copy()\n",
                "order_details_df['OrderDetailID'] = range(1, 1+len(order_details_df))\n",
                "\n",
                "# Extracting products \n",
                "products_df = df[['PRODUCTCODE', 'PRODUCTLINE', 'MSRP']].copy()\n",
                "\n",
                "print(customers_df.head())\n",
                "print(orders_df.head())\n",
                "print(order_details_df.head())\n",
                "print(products_df.head())"
            ],
            "metadata": {
                "azdata_cell_guid": "f59efb11-39c2-4621-a64e-03c0b4de9b49",
                "language": "python"
            },
            "outputs": [
                {
                    "name": "stdout",
                    "text": "   CustomerID              CUSTOMERNAME      ContactName  \\\n0           1         Land of Toys Inc.          Kwai Yu   \n1           2        Reims Collectables     Paul Henriot   \n2           3           Lyon Souveniers  Daniel Da Cunha   \n3           4         Toys4GrownUps.com      Julie Young   \n4           5  Corporate Gift Ideas Co.      Julie Brown   \n\n                    ADDRESSLINE1           CITY POSTALCODE COUNTRY  \n0        897 Long Airport Avenue            NYC      10022     USA  \n1             59 rue de l'Abbaye          Reims      51100  France  \n2  27 rue du Colonel Pierre Avia          Paris      75508  France  \n3             78934 Hillside Dr.       Pasadena      90003     USA  \n4                7734 Strong St.  San Francisco        NaN     USA  \n   ORDERNUMBER  CustomerID        ORDERDATE   STATUS\n0        10107           1   2/24/2003 0:00  Shipped\n1        10121           2    5/7/2003 0:00  Shipped\n2        10134           3    7/1/2003 0:00  Shipped\n3        10145           4   8/25/2003 0:00  Shipped\n4        10159           5  10/10/2003 0:00  Shipped\n   ORDERNUMBER PRODUCTCODE  QUANTITYORDERED  PRICEEACH  OrderDetailID\n0        10107    S10_1678               30      95.70              1\n1        10121    S10_1678               34      81.35              2\n2        10134    S10_1678               41      94.74              3\n3        10145    S10_1678               45      83.26              4\n4        10159    S10_1678               49     100.00              5\n  PRODUCTCODE  PRODUCTLINE  MSRP\n0    S10_1678  Motorcycles    95\n1    S10_1678  Motorcycles    95\n2    S10_1678  Motorcycles    95\n3    S10_1678  Motorcycles    95\n4    S10_1678  Motorcycles    95\n",
                    "output_type": "stream"
                }
            ],
            "execution_count": 11
        },
        {
            "cell_type": "code",
            "source": [
                "from dotenv import load_dotenv\n",
                "import os\n",
                "from sqlalchemy import create_engine\n",
                "\n",
                "load_dotenv()\n",
                "API_KEY = os.getenv(\"API_KEY\")\n",
                "\n",
                "# Replace these values with your database credentials\n",
                "username = os.getenv('MY_USERNAME')\n",
                "password = os.getenv('MY_PASSWORD')\n",
                "host = 'localhost'\n",
                "port = '5432'\n",
                "database = 'ordermanagement'\n",
                "\n",
                "engine = create_engine(f'postgresql+psycopg2://{username}:{password}@{host}:{port}/{database}')"
            ],
            "metadata": {
                "azdata_cell_guid": "483fd13f-56a4-4a28-849b-7713f91426c1",
                "language": "python",
                "tags": []
            },
            "outputs": [],
            "execution_count": 24
        },
        {
            "cell_type": "code",
            "source": [
                "# Insert data into customers table\n",
                "customers_df.to_sql('customers', engine, if_exists='append', index=False)\n",
                "\n",
                "# Insert data into orders table\n",
                "orders_df.to_sql('orders', engine, if_exists='append', index=False)\n",
                "\n",
                "# Insert data into order details table\n",
                "order_details_df.to_sql('order_details', engine, if_exists='append', index=False)\n",
                "\n",
                "# Insert data into products table\n",
                "products_df.to_sql('products', engine, if_exists='append', index=False)\n",
                ""
            ],
            "metadata": {
                "language": "python",
                "azdata_cell_guid": "22bb286a-a923-4941-a173-ad00bff0c744",
                "tags": []
            },
            "outputs": [
                {
                    "data": {
                        "text/plain": "823"
                    },
                    "metadata": {},
                    "execution_count": 25,
                    "output_type": "execute_result"
                }
            ],
            "execution_count": 25
        }
    ]
}